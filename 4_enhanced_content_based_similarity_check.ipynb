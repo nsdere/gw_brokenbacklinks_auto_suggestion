{
 "cells": [
  {
   "cell_type": "code",
   "execution_count": 1,
   "metadata": {},
   "outputs": [
    {
     "name": "stdout",
     "output_type": "stream",
     "text": [
      "<Response [200]>\n"
     ]
    }
   ],
   "source": [
    "import pandas as pd\n",
    "from src.firefall import FirefallService\n",
    "from src.imss import IMSService\n",
    "from src.utils import Utils\n",
    "\n",
    "adobe_env = 'prod'\n",
    "ims_service = IMSService(adobe_env)\n",
    "firefall_service = FirefallService(ims_service.ACCESS_TOKEN, 'prod')\n",
    "\n",
    "utils = Utils()\n",
    "\n",
    "#One time run to calculate and save embeddings\n",
    "#document_dir = \"data/lovesac/scraped_content\"\n",
    "#collection_name = 'lovesac'\n",
    "#utils.calculate_save_embeddings(document_dir, collection_name)\n",
    "\n",
    "#Read the broken backlinks and sitemap URLs from the files\n",
    "with open('data/lovesac/broken_urls.txt') as f:\n",
    "    broken_backlinks = f.read().splitlines()\n",
    "\n",
    "with open('data/lovesac/sitemap_urls.txt') as f:\n",
    "    sitemap_urls = f.read().splitlines()"
   ]
  },
  {
   "cell_type": "code",
   "execution_count": 2,
   "metadata": {},
   "outputs": [
    {
     "data": {
      "text/html": [
       "<div>\n",
       "<style scoped>\n",
       "    .dataframe tbody tr th:only-of-type {\n",
       "        vertical-align: middle;\n",
       "    }\n",
       "\n",
       "    .dataframe tbody tr th {\n",
       "        vertical-align: top;\n",
       "    }\n",
       "\n",
       "    .dataframe thead th {\n",
       "        text-align: right;\n",
       "    }\n",
       "</style>\n",
       "<table border=\"1\" class=\"dataframe\">\n",
       "  <thead>\n",
       "    <tr style=\"text-align: right;\">\n",
       "      <th></th>\n",
       "      <th>Broken Back Link</th>\n",
       "      <th>File Name</th>\n",
       "      <th>Distance</th>\n",
       "      <th>Index</th>\n",
       "    </tr>\n",
       "  </thead>\n",
       "  <tbody>\n",
       "    <tr>\n",
       "      <th>0</th>\n",
       "      <td>https://www.lovesac.com/footsac-blanket-mousse...</td>\n",
       "      <td>footsac-blanket-dove-boucle.md</td>\n",
       "      <td>5.408681</td>\n",
       "      <td>146</td>\n",
       "    </tr>\n",
       "    <tr>\n",
       "      <th>1</th>\n",
       "      <td>https://www.lovesac.com/footsac-blanket-mousse...</td>\n",
       "      <td>room-for-two-footsac-blanket-dove-channeled-ph...</td>\n",
       "      <td>5.166362</td>\n",
       "      <td>149</td>\n",
       "    </tr>\n",
       "    <tr>\n",
       "      <th>2</th>\n",
       "      <td>https://www.lovesac.com/footsac-blanket-mousse...</td>\n",
       "      <td>room-for-two-footsac-blanket-midnight-mink-phu...</td>\n",
       "      <td>4.920412</td>\n",
       "      <td>63</td>\n",
       "    </tr>\n",
       "  </tbody>\n",
       "</table>\n",
       "</div>"
      ],
      "text/plain": [
       "                                    Broken Back Link  \\\n",
       "0  https://www.lovesac.com/footsac-blanket-mousse...   \n",
       "1  https://www.lovesac.com/footsac-blanket-mousse...   \n",
       "2  https://www.lovesac.com/footsac-blanket-mousse...   \n",
       "\n",
       "                                           File Name  Distance  Index  \n",
       "0                     footsac-blanket-dove-boucle.md  5.408681    146  \n",
       "1  room-for-two-footsac-blanket-dove-channeled-ph...  5.166362    149  \n",
       "2  room-for-two-footsac-blanket-midnight-mink-phu...  4.920412     63  "
      ]
     },
     "execution_count": 2,
     "metadata": {},
     "output_type": "execute_result"
    }
   ],
   "source": [
    "broken_backlink = broken_backlinks[1]\n",
    "df = utils.search_for_similar(broken_backlink, 'lovesac', k=3)  \n",
    "df.insert(0, 'Broken Back Link', broken_backlink) \n",
    "df"
   ]
  },
  {
   "cell_type": "code",
   "execution_count": null,
   "metadata": {},
   "outputs": [],
   "source": []
  },
  {
   "cell_type": "code",
   "execution_count": 3,
   "metadata": {},
   "outputs": [
    {
     "name": "stdout",
     "output_type": "stream",
     "text": [
      "200 {\"conversation_identifier\":null,\"query_id\":null,\"llm_type\":\"azure_chat_openai\",\"generations\":[[{\"text\":\"{\\n  \\\"suggested_url\\\": \\\"https://www.lovesac.com/blankets/\\\",\\n  \\\"ai_rationale\\\": \\\"The broken link seems to be a product page for a footsac blanket in mousse phur. The suggested URL is the category page for blankets, which closely matches the original intent of the user.\\\"\\n}\",\"generation_info\":{\"finish_reason\":\"stop\",\"content_filter_results\":{\"hate\":{\"filtered\":false,\"severity\":\"safe\"},\"self_harm\":{\"filtered\":false,\"severity\":\"safe\"},\"sexual\":{\"filtered\":false,\"severity\":\"safe\"},\"violence\":{\"filtered\":false,\"severity\":\"safe\"}}},\"type\":\"ChatGeneration\",\"message\":{\"content\":\"{\\n  \\\"suggested_url\\\": \\\"https://www.lovesac.com/blankets/\\\",\\n  \\\"ai_rationale\\\": \\\"The broken link seems to be a product page for a footsac blanket in mousse phur. The suggested URL is the category page for blankets, which closely matches the original intent of the user.\\\"\\n}\",\"additional_kwargs\":{},\"type\":\"ai\",\"example\":false}}]],\"llm_output\":{\"token_usage\":{\"completion_tokens\":68,\"prompt_tokens\":349,\"total_tokens\":417},\"model_name\":\"gpt-35-turbo\",\"prompt_filter_results\":[{\"prompt_index\":0,\"content_filter_results\":{\"hate\":{\"filtered\":false,\"severity\":\"safe\"},\"self_harm\":{\"filtered\":false,\"severity\":\"safe\"},\"sexual\":{\"filtered\":false,\"severity\":\"safe\"},\"violence\":{\"filtered\":false,\"severity\":\"safe\"}}}]},\"messages\":null,\"context\":null}\n"
     ]
    },
    {
     "data": {
      "text/plain": [
       "'{\\n  \"suggested_url\": \"https://www.lovesac.com/blankets/\",\\n  \"ai_rationale\": \"The broken link seems to be a product page for a footsac blanket in mousse phur. The suggested URL is the category page for blankets, which closely matches the original intent of the user.\"\\n}'"
      ]
     },
     "execution_count": 3,
     "metadata": {},
     "output_type": "execute_result"
    }
   ],
   "source": [
    "prompt = f'''\n",
    "\n",
    "As an SEO expert tasked with fixing broken backlinks, you will receive an alternative URL from the same website, selected based on similarity indices. \n",
    "Please be aware that these suggestions might not be completely accurate.\n",
    "\n",
    "Carefully review the provided URLs. \n",
    "If the suggested URL does not seem to be an exact match, opt to redirect to the homepage or, if it pertains to a product, the relevant category page.\n",
    "\n",
    "Matching Process:\n",
    "- Identify the keywords after the last slash in the URLs.\n",
    "- Analyze the keywords semantically to understand their meaning.\n",
    "- Evaluate similarity: If the keywords are semantically similar, the URL is considered a match.\n",
    "Remember, the goal is to redirect users to a page that closely matches their original intent. \n",
    "It is preferable to redirect to a related category page or the main page rather than a completely unrelated one.\n",
    "\n",
    "For example, for the following example, as the URLs were not a good match, and broken link is a product page, then it is better to redirect to the category page. (if it is included in the URL, do not make up a URL)\n",
    "Broken link: https://www.lovesac.com/sacs/bigone.html\n",
    "Alternative URL link: https://www.lovesac.com/financing\n",
    "Suggested URL: https://www.lovesac.com/sacs/\n",
    "\n",
    "Now, give suggested URL for the following:\n",
    "Here is the broken link: {df['Broken Back Link'][0]}\n",
    "Here is the suggested link: {df['Broken Back Link'][0]}\n",
    "\n",
    "The output should be a JSON containing the suggested URL and AI rationale.\n",
    "\n",
    "'''\n",
    "response = firefall_service.completions(11, prompt)\n",
    "response['generations'][0][0]['message']['content']"
   ]
  },
  {
   "cell_type": "code",
   "execution_count": null,
   "metadata": {},
   "outputs": [],
   "source": []
  }
 ],
 "metadata": {
  "kernelspec": {
   "display_name": "gen-ai",
   "language": "python",
   "name": "python3"
  },
  "language_info": {
   "codemirror_mode": {
    "name": "ipython",
    "version": 3
   },
   "file_extension": ".py",
   "mimetype": "text/x-python",
   "name": "python",
   "nbconvert_exporter": "python",
   "pygments_lexer": "ipython3",
   "version": "3.10.9"
  }
 },
 "nbformat": 4,
 "nbformat_minor": 2
}
