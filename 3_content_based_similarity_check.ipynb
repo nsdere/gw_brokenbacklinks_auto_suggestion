{
 "cells": [
  {
   "cell_type": "code",
   "execution_count": 28,
   "metadata": {},
   "outputs": [],
   "source": [
    "import pandas as pd\n",
    "from src.utils import Utils\n",
    "\n",
    "utils = Utils()\n",
    "\n",
    "#One time run to calculate and save embeddings\n",
    "#document_dir = \"data/lovesac/scraped_content\"\n",
    "#collection_name = 'lovesac'\n",
    "#utils.calculate_save_embeddings(document_dir, collection_name)\n",
    "\n",
    "#Read the broken backlinks and sitemap URLs from the files\n",
    "with open('data/lovesac/broken_urls.txt') as f:\n",
    "    broken_backlinks = f.read().splitlines()\n",
    "\n",
    "with open('data/lovesac/sitemap_urls.txt') as f:\n",
    "    sitemap_urls = f.read().splitlines()"
   ]
  },
  {
   "cell_type": "code",
   "execution_count": 35,
   "metadata": {},
   "outputs": [
    {
     "data": {
      "text/html": [
       "<div>\n",
       "<style scoped>\n",
       "    .dataframe tbody tr th:only-of-type {\n",
       "        vertical-align: middle;\n",
       "    }\n",
       "\n",
       "    .dataframe tbody tr th {\n",
       "        vertical-align: top;\n",
       "    }\n",
       "\n",
       "    .dataframe thead th {\n",
       "        text-align: right;\n",
       "    }\n",
       "</style>\n",
       "<table border=\"1\" class=\"dataframe\">\n",
       "  <thead>\n",
       "    <tr style=\"text-align: right;\">\n",
       "      <th></th>\n",
       "      <th>Broken Back Link</th>\n",
       "      <th>File Name</th>\n",
       "      <th>Distance</th>\n",
       "      <th>Index</th>\n",
       "    </tr>\n",
       "  </thead>\n",
       "  <tbody>\n",
       "    <tr>\n",
       "      <th>0</th>\n",
       "      <td>https://www.lovesac.com/footsac-blanket-mousse...</td>\n",
       "      <td>footsac-blanket-dove-boucle.md</td>\n",
       "      <td>5.408681</td>\n",
       "      <td>146</td>\n",
       "    </tr>\n",
       "    <tr>\n",
       "      <th>1</th>\n",
       "      <td>https://www.lovesac.com/footsac-blanket-mousse...</td>\n",
       "      <td>room-for-two-footsac-blanket-dove-channeled-ph...</td>\n",
       "      <td>5.166362</td>\n",
       "      <td>149</td>\n",
       "    </tr>\n",
       "    <tr>\n",
       "      <th>2</th>\n",
       "      <td>https://www.lovesac.com/footsac-blanket-mousse...</td>\n",
       "      <td>room-for-two-footsac-blanket-midnight-mink-phu...</td>\n",
       "      <td>4.920412</td>\n",
       "      <td>63</td>\n",
       "    </tr>\n",
       "  </tbody>\n",
       "</table>\n",
       "</div>"
      ],
      "text/plain": [
       "                                    Broken Back Link  \\\n",
       "0  https://www.lovesac.com/footsac-blanket-mousse...   \n",
       "1  https://www.lovesac.com/footsac-blanket-mousse...   \n",
       "2  https://www.lovesac.com/footsac-blanket-mousse...   \n",
       "\n",
       "                                           File Name  Distance  Index  \n",
       "0                     footsac-blanket-dove-boucle.md  5.408681    146  \n",
       "1  room-for-two-footsac-blanket-dove-channeled-ph...  5.166362    149  \n",
       "2  room-for-two-footsac-blanket-midnight-mink-phu...  4.920412     63  "
      ]
     },
     "execution_count": 35,
     "metadata": {},
     "output_type": "execute_result"
    }
   ],
   "source": [
    "broken_backlink = broken_backlinks[1]\n",
    "df = utils.search_for_similar(broken_backlink, 'lovesac', k=3)  \n",
    "df.insert(0, 'Broken Back Link', broken_backlink) \n",
    "df"
   ]
  },
  {
   "cell_type": "code",
   "execution_count": null,
   "metadata": {},
   "outputs": [],
   "source": []
  }
 ],
 "metadata": {
  "kernelspec": {
   "display_name": "gen-ai",
   "language": "python",
   "name": "python3"
  },
  "language_info": {
   "codemirror_mode": {
    "name": "ipython",
    "version": 3
   },
   "file_extension": ".py",
   "mimetype": "text/x-python",
   "name": "python",
   "nbconvert_exporter": "python",
   "pygments_lexer": "ipython3",
   "version": "3.10.9"
  }
 },
 "nbformat": 4,
 "nbformat_minor": 2
}
