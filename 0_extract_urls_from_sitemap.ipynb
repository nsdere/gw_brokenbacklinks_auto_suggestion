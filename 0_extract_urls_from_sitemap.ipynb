{
 "cells": [
  {
   "cell_type": "code",
   "execution_count": 16,
   "metadata": {},
   "outputs": [],
   "source": [
    "import requests\n",
    "import xml.etree.ElementTree as ET\n",
    "\n",
    "sitemap_urls = ['https://www.lovesac.com/sitemap-content.xml' , 'https://www.lovesac.com/media/sitemap/sitemap.xml' ]\n",
    "arr = []\n",
    "for url in sitemap_urls:\n",
    "    response = requests.get(url)\n",
    "    sitemap_content = response.content\n",
    "\n",
    "    root = ET.fromstring(sitemap_content)\n",
    "    namespace = {'ns': 'http://www.sitemaps.org/schemas/sitemap/0.9'}\n",
    "\n",
    "    urls = [url_elem.text for url_elem in root.findall('ns:url/ns:loc', namespaces=namespace)]\n",
    "    arr.extend(urls)\n",
    "arr\n",
    "#array to text file\n",
    "with open('data/lovesac/sitemap_urls.txt', 'w') as f:\n",
    "    for item in arr:\n",
    "        f.write(\"%s\\n\" % item)\n"
   ]
  },
  {
   "cell_type": "code",
   "execution_count": null,
   "metadata": {},
   "outputs": [],
   "source": [
    "#Broken URLs\n",
    "import json\n",
    "from pandas import json_normalize\n",
    "\n",
    "file_path = 'data/lovesac/lovesac_brokenbacklinks_20240703.json'\n",
    "\n",
    "with open(file_path, 'r') as file:\n",
    "    data = json.load(file)\n",
    "\n",
    "data = json_normalize(data['brokenBacklinks'])\n",
    "\n",
    "#Save as txt file data['url_to'].values\n",
    "with open('data/lovesac/broken_urls.txt', 'w') as f:\n",
    "    for url in data['url_to'].values:\n",
    "        f.write(url + '\\n')\n"
   ]
  }
 ],
 "metadata": {
  "kernelspec": {
   "display_name": "gen-ai",
   "language": "python",
   "name": "python3"
  },
  "language_info": {
   "codemirror_mode": {
    "name": "ipython",
    "version": 3
   },
   "file_extension": ".py",
   "mimetype": "text/x-python",
   "name": "python",
   "nbconvert_exporter": "python",
   "pygments_lexer": "ipython3",
   "version": "3.10.9"
  }
 },
 "nbformat": 4,
 "nbformat_minor": 2
}
