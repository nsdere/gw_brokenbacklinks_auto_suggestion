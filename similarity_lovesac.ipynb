{
 "cells": [
  {
   "cell_type": "code",
   "execution_count": 2,
   "metadata": {},
   "outputs": [
    {
     "name": "stderr",
     "output_type": "stream",
     "text": [
      "/Users/ndere/.pyenv/versions/3.10.9/lib/python3.10/site-packages/tqdm/auto.py:21: TqdmWarning: IProgress not found. Please update jupyter and ipywidgets. See https://ipywidgets.readthedocs.io/en/stable/user_install.html\n",
      "  from .autonotebook import tqdm as notebook_tqdm\n"
     ]
    }
   ],
   "source": [
    "import pandas as pd\n",
    "from src.utils import Utils\n",
    "\n",
    "utils = Utils()\n",
    "\n",
    "#One time run to calculate and save embeddings\n",
    "#document_dir = \"data/lovesac/\"\n",
    "#collection_name = 'lovesac'\n",
    "#utils.calculate_save_embeddings(document_dir, collection_name)"
   ]
  },
  {
   "cell_type": "code",
   "execution_count": 13,
   "metadata": {},
   "outputs": [],
   "source": [
    "import pandas as pd\n",
    "from pandas import json_normalize\n",
    "import json\n",
    "\n",
    "file_path = 'data/www.lovesac.com-Broken_Backlinks-anchor-snippets-1718024730089.json'\n",
    "\n",
    "with open(file_path, 'r') as file:\n",
    "    data = json.load(file)\n",
    "\n",
    "data = json_normalize(data['backlinks'])\n",
    "\n",
    "\n",
    "#save the data to a csv file\n",
    "data.to_csv('data/lovesac_broken_backlinks.csv', index=False)"
   ]
  },
  {
   "cell_type": "code",
   "execution_count": 14,
   "metadata": {},
   "outputs": [],
   "source": [
    "top_pages_path = 'data/lovesac_top200.csv'\n",
    "results = [] \n",
    "for i in range(len(data)):\n",
    "    broken_backlink = data.iloc[i]['url_to']  \n",
    "    df = utils.search_for_similar(broken_backlink, 'lovesac', k=3, top_pages_path=top_pages_path)  \n",
    "    df.insert(0, 'Broken Back Link', broken_backlink) \n",
    "    results.append(df)  \n",
    "final_df = pd.concat(results, ignore_index=True)\n",
    "final_df.to_csv('data/lovesac_ai_suggestion_by_link.csv', index=False)"
   ]
  },
  {
   "cell_type": "code",
   "execution_count": 15,
   "metadata": {},
   "outputs": [],
   "source": [
    "top_pages_path = 'data/lovesac_top200.csv'\n",
    "results = [] \n",
    "for i in range(len(data)):\n",
    "\n",
    "    broken_backlink = data.iloc[i]['url_to']\n",
    "    anchor_text = data.iloc[i]['anchor']\n",
    "    left_snippet = data.iloc[i]['snippet_left']\n",
    "    right_snippet = data.iloc[i]['snippet_right']\n",
    "    text = broken_backlink + '-' + anchor_text + '-' + left_snippet + '-' + right_snippet\n",
    "\n",
    "    df = utils.search_for_similar(broken_backlink, 'lovesac', k=3, top_pages_path=top_pages_path)  \n",
    "    df.insert(0, 'Broken Back Link', broken_backlink) \n",
    "    results.append(df)  \n",
    "final_df = pd.concat(results, ignore_index=True)\n",
    "final_df.to_csv('data/lovesac_ai_suggestion_by_linkanchortext.csv', index=False)"
   ]
  },
  {
   "cell_type": "code",
   "execution_count": null,
   "metadata": {},
   "outputs": [],
   "source": []
  }
 ],
 "metadata": {
  "kernelspec": {
   "display_name": "Python 3",
   "language": "python",
   "name": "python3"
  },
  "language_info": {
   "codemirror_mode": {
    "name": "ipython",
    "version": 3
   },
   "file_extension": ".py",
   "mimetype": "text/x-python",
   "name": "python",
   "nbconvert_exporter": "python",
   "pygments_lexer": "ipython3",
   "version": "3.10.9"
  }
 },
 "nbformat": 4,
 "nbformat_minor": 2
}
